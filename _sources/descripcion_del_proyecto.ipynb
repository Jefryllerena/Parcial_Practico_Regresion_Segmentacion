{
 "cells": [
  {
   "cell_type": "markdown",
   "metadata": {},
   "source": [
    "<h1 style=\"\n",
    "  background: linear-gradient(to right,rgb(94, 16, 4),rgb(237, 44, 14));\n",
    "  -webkit-background-clip: text;\n",
    "  -webkit-text-fill-color: transparent;\n",
    "  font-size: 55px;\n",
    "  font-weight: bold;\n",
    "\">\n",
    "  Parcial Práctico\n",
    "</h1>\n",
    "\n",
    "### **Por:** Angélica Sepúlveda, Andrés Pedraza y Jefry Llerena\n",
    "\n",
    "![Portada](Parcial1.png)\n",
    "![Portada](Parcial2.png)\n",
    "![Portada](Parcial3.png)\n",
    "![Portada](Parcial4.png)\n",
    "![Portada](Parcial5.png)"
   ]
  }
 ],
 "metadata": {
  "kernelspec": {
   "display_name": "ml_venv",
   "language": "python",
   "name": "python3"
  },
  "language_info": {
   "codemirror_mode": {
    "name": "ipython",
    "version": 3
   },
   "file_extension": ".py",
   "mimetype": "text/x-python",
   "name": "python",
   "nbconvert_exporter": "python",
   "pygments_lexer": "ipython3",
   "version": "3.9.21"
  },
  "widgets": {
   "application/vnd.jupyter.widget-state+json": {
    "state": {},
    "version_major": 2,
    "version_minor": 0
   }
  }
 },
 "nbformat": 4,
 "nbformat_minor": 4
}
